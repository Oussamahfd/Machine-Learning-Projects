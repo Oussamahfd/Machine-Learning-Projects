{
 "cells": [
  {
   "cell_type": "code",
   "execution_count": 2,
   "id": "d6bcfd3e-77de-4dfc-8808-1af92d8bf5f2",
   "metadata": {},
   "outputs": [],
   "source": [
    "from bs4 import BeautifulSoup\n",
    "import requests\n",
    "import re\n",
    "import pandas as pd\n"
   ]
  },
  {
   "cell_type": "code",
   "execution_count": 4,
   "id": "490dce8a-ec64-494f-929a-65d15d7a7119",
   "metadata": {},
   "outputs": [
    {
     "name": "stdout",
     "output_type": "stream",
     "text": [
      "2642\n"
     ]
    },
    {
     "ename": "NameError",
     "evalue": "name 'prix_val' is not defined",
     "output_type": "error",
     "traceback": [
      "\u001b[1;31m---------------------------------------------------------------------------\u001b[0m",
      "\u001b[1;31mNameError\u001b[0m                                 Traceback (most recent call last)",
      "Cell \u001b[1;32mIn[4], line 91\u001b[0m\n\u001b[0;32m     89\u001b[0m             voiture [sc\u001b[38;5;241m.\u001b[39mtext] \u001b[38;5;241m=\u001b[39m Kilométrage\n\u001b[0;32m     90\u001b[0m         i \u001b[38;5;241m+\u001b[39m\u001b[38;5;241m=\u001b[39m \u001b[38;5;241m1\u001b[39m\n\u001b[1;32m---> 91\u001b[0m         voiture [\u001b[38;5;124m\"\u001b[39m\u001b[38;5;124mprix en (DHS)\u001b[39m\u001b[38;5;124m\"\u001b[39m] \u001b[38;5;241m=\u001b[39m \u001b[43mprix_val\u001b[49m\n\u001b[0;32m     92\u001b[0m     liste_voitures\u001b[38;5;241m.\u001b[39mappend(voiture)\n\u001b[0;32m     94\u001b[0m \u001b[38;5;66;03m#stocker les donnees extracte dans dataframe \u001b[39;00m\n",
      "\u001b[1;31mNameError\u001b[0m: name 'prix_val' is not defined"
     ]
    }
   ],
   "source": [
    "headers = {'User-Agent': 'Mozilla/5.0 (Windows NT 10.0; Win64; x64) AppleWebKit/537.36 (KHTML, like Gecko) Chrome/91.0.4472.124 Safari/537.36'}\n",
    "\n",
    "\n",
    "#extaraction le nombre des pages pour preparer l'extraction global \n",
    "url = 'https://www.avito.ma/fr/maroc/voitures-à_vendre'\n",
    "page = requests.get(url, headers=headers)\n",
    "soup = BeautifulSoup(page.text ,'html')\n",
    "#extraction tout les balises <a> \n",
    "balises_a = soup.find_all('a',href=True)\n",
    "\n",
    "#extraction le dernier nombre de pagination\n",
    "nombres_entiers = []\n",
    "\n",
    "for balise_a in balises_a:\n",
    "    texte = balise_a.text.strip()\n",
    "    if re.match(r'^-?\\d+$', texte):\n",
    "        nombres_entiers.append(int(texte))\n",
    "\n",
    "lastpage = int(nombres_entiers[-1])\n",
    "print(lastpage)\n",
    "\n",
    "#extraction tout les lignes pour tout les annonces des voitures jusqu'à la deriniere page\n",
    "all_liens =[]\n",
    "for i in range(1):\n",
    "    url = 'https://www.avito.ma/fr/maroc/voitures-à_vendre?o='+str(1)\n",
    "    balises_a = soup.find_all('a',href=True,class_='sc-1jge648-0 eTbzNs')\n",
    "    all_liens.extend(balises_a)\n",
    "#tout les href qui rederige vers l'annonce \n",
    "hrefs = []\n",
    "for link in all_liens:\n",
    "    href = link.get('href')\n",
    "    hrefs.append(href)\n",
    "\n",
    "#tout les voitures ont extracté\n",
    "liste_voitures = []\n",
    "#pour chaque annonces seul\n",
    "for href in hrefs :\n",
    "    url = href\n",
    "    page = requests.get(url, headers=headers)\n",
    "    soup = BeautifulSoup(page.text ,'html')\n",
    "\n",
    "    prixc = soup.find('p', attrs={'class': 'sc-1x0vz2r-0 lnEFFR sc-1g3sn3w-13 czygWQ'})\n",
    "    if(prixc is None) :\n",
    "        prixc = \"NAN\"\n",
    "    else :\n",
    "        prix = prixc.text\n",
    "        prix_val= prix.replace(' ', '').replace(' ', '').replace('DH', '')\n",
    "#les 3 premiers infos\n",
    "    first_infos = soup.find_all('span', attrs={'class': 'sc-1x0vz2r-0 kQHNss'})\n",
    "    for info in first_infos :\n",
    "        if info.text.lower() == \"automatique\" or info.text.lower() == \"manuel\":\n",
    "            transmission = info.text\n",
    "        elif info.text.lower() == \"diesel\" or info.text.lower() == \"essence\":\n",
    "            typeCarburant = info.text\n",
    "        elif \"cv\" in info.text.lower():\n",
    "            nbr_cv = info.text\n",
    "\n",
    "#tout les noms \"caracteristiques\" et leur valeurs equivalents\n",
    "    span_carac = soup.find_all('span',attrs={'class': 'sc-1x0vz2r-0 jZyObG'})\n",
    "    span_carac_val = soup.find_all('span',attrs={'class': 'sc-1x0vz2r-0 gSLYtF'})\n",
    "    \n",
    "#compt pour chaque carac et sa valeur precis\n",
    "    i = 0 \n",
    "    voiture = {}\n",
    "    for sc in span_carac :\n",
    "        if sc.text == \"Type\":\n",
    "            type = span_carac_val[i].text\n",
    "            voiture [sc.text] = type\n",
    "        if sc.text == \"État\":\n",
    "            etat = span_carac_val[i].text\n",
    "            voiture [sc.text] = etat\n",
    "        if sc.text == \"Marque\":\n",
    "            marque = span_carac_val[i].text\n",
    "            voiture [sc.text] = marque\n",
    "        if sc.text == \"Modèle\":\n",
    "            modele = span_carac_val[i].text\n",
    "            voiture [sc.text] = modele\n",
    "        if sc.text == \"Année-Modèle\":\n",
    "            anne_model = span_carac_val[i].text\n",
    "            voiture [sc.text] = anne_model\n",
    "        if sc.text == \"Première main\":\n",
    "            premier_main = span_carac_val[i].text\n",
    "            voiture [sc.text] = premier_main\n",
    "        if sc.text == \"Nombre de portes\":\n",
    "            nbr_portes = span_carac_val[i].text\n",
    "            voiture [sc.text] = nbr_portes\n",
    "        if sc.text == \"Kilométrage\":\n",
    "            Kilométrage = span_carac_val[i].text\n",
    "            voiture [sc.text] = Kilométrage\n",
    "        i += 1\n",
    "        voiture [\"prix en (DHS)\"] = prix_val\n",
    "    liste_voitures.append(voiture)\n",
    "    \n",
    "#stocker les donnees extracte dans dataframe \n",
    "df = pd.DataFrame(liste_voitures)\n",
    "display(df)\n",
    "#save as csv\n",
    "df.to_csv('avito_data_voitures_struc121t.csv', index=False , sep=';')  \n",
    "\n",
    "\n",
    "# nbr_cv = soup.find('span', attrs={'class': 'sc-1x0vz2r-0 kQHNss'})\n",
    "# print(nbr_cv)\n",
    "\n",
    "\n"
   ]
  },
  {
   "cell_type": "code",
   "execution_count": null,
   "id": "86df6346-b818-4def-a77b-680f1abf0471",
   "metadata": {},
   "outputs": [],
   "source": []
  },
  {
   "cell_type": "code",
   "execution_count": null,
   "id": "3ba32809-0a71-456b-9850-22cad2a96fef",
   "metadata": {
    "scrolled": true
   },
   "outputs": [],
   "source": []
  },
  {
   "cell_type": "code",
   "execution_count": null,
   "id": "2602d26a-75b9-409e-b8e9-4c894b4b5fa4",
   "metadata": {},
   "outputs": [],
   "source": []
  },
  {
   "cell_type": "code",
   "execution_count": null,
   "id": "72818153-7b69-4558-bfa0-264a7471e1c0",
   "metadata": {},
   "outputs": [],
   "source": []
  },
  {
   "cell_type": "code",
   "execution_count": null,
   "id": "0699b1ee-7ffb-4c7b-a574-2e47c476f850",
   "metadata": {},
   "outputs": [],
   "source": [
    "  "
   ]
  },
  {
   "cell_type": "code",
   "execution_count": null,
   "id": "36cb6b23-2935-467d-b44c-af4edc3336bc",
   "metadata": {},
   "outputs": [],
   "source": []
  },
  {
   "cell_type": "code",
   "execution_count": null,
   "id": "2a0376e7-653b-4347-bde2-03cd37fca3c8",
   "metadata": {},
   "outputs": [],
   "source": []
  },
  {
   "cell_type": "code",
   "execution_count": null,
   "id": "81ae4cd4-d71b-4c3a-8b38-bd7ce36ebbf8",
   "metadata": {},
   "outputs": [],
   "source": []
  }
 ],
 "metadata": {
  "kernelspec": {
   "display_name": "Python 3 (ipykernel)",
   "language": "python",
   "name": "python3"
  },
  "language_info": {
   "codemirror_mode": {
    "name": "ipython",
    "version": 3
   },
   "file_extension": ".py",
   "mimetype": "text/x-python",
   "name": "python",
   "nbconvert_exporter": "python",
   "pygments_lexer": "ipython3",
   "version": "3.12.1"
  }
 },
 "nbformat": 4,
 "nbformat_minor": 5
}
