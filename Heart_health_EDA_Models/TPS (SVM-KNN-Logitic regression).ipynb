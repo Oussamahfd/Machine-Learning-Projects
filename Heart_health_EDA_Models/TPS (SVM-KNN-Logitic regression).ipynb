{
 "cells": [
  {
   "cell_type": "markdown",
   "id": "53ece4f7-e0a1-412b-87f2-90a63c723e76",
   "metadata": {},
   "source": [
    "### Importation les bibliotheques "
   ]
  },
  {
   "cell_type": "code",
   "execution_count": 36,
   "id": "ed48b752-1a65-401d-a3d6-df225e31fcb2",
   "metadata": {},
   "outputs": [],
   "source": [
    "import numpy as np  # Import de la bibliothèque NumPy pour le calcul numérique\n",
    "import pandas as pd  # Import de la bibliothèque Pandas pour la manipulation des données\n",
    "import seaborn as sns  # Import de la bibliothèque Seaborn pour la visualisation de données statistiques\n",
    "import matplotlib.pyplot as plt  # Import de la bibliothèque Matplotlib pour la visualisation de données\n",
    "import sklearn  # Import de la bibliothèque scikit-learn pour l'apprentissage automatique\n",
    "from sklearn.preprocessing import LabelEncoder"
   ]
  },
  {
   "cell_type": "code",
   "execution_count": 64,
   "id": "a4345133-1689-4bed-b776-65ba6afc5ffb",
   "metadata": {},
   "outputs": [
    {
     "data": {
      "text/html": [
       "<div>\n",
       "<style scoped>\n",
       "    .dataframe tbody tr th:only-of-type {\n",
       "        vertical-align: middle;\n",
       "    }\n",
       "\n",
       "    .dataframe tbody tr th {\n",
       "        vertical-align: top;\n",
       "    }\n",
       "\n",
       "    .dataframe thead th {\n",
       "        text-align: right;\n",
       "    }\n",
       "</style>\n",
       "<table border=\"1\" class=\"dataframe\">\n",
       "  <thead>\n",
       "    <tr style=\"text-align: right;\">\n",
       "      <th></th>\n",
       "      <th>ID</th>\n",
       "      <th>Name</th>\n",
       "      <th>Age</th>\n",
       "      <th>Gender</th>\n",
       "      <th>Height(cm)</th>\n",
       "      <th>Weight(kg)</th>\n",
       "      <th>Blood Pressure(mmHg)</th>\n",
       "      <th>Cholesterol(mg/dL)</th>\n",
       "      <th>Glucose(mg/dL)</th>\n",
       "      <th>Smoker</th>\n",
       "      <th>Exercise(hours/week)</th>\n",
       "      <th>Heart Attack</th>\n",
       "    </tr>\n",
       "  </thead>\n",
       "  <tbody>\n",
       "    <tr>\n",
       "      <th>0</th>\n",
       "      <td>1</td>\n",
       "      <td>John Doe</td>\n",
       "      <td>45</td>\n",
       "      <td>Male</td>\n",
       "      <td>175</td>\n",
       "      <td>80</td>\n",
       "      <td>120/80</td>\n",
       "      <td>200</td>\n",
       "      <td>90</td>\n",
       "      <td>No</td>\n",
       "      <td>3</td>\n",
       "      <td>0</td>\n",
       "    </tr>\n",
       "    <tr>\n",
       "      <th>1</th>\n",
       "      <td>2</td>\n",
       "      <td>Jane Smith</td>\n",
       "      <td>35</td>\n",
       "      <td>Female</td>\n",
       "      <td>160</td>\n",
       "      <td>65</td>\n",
       "      <td>110/70</td>\n",
       "      <td>180</td>\n",
       "      <td>80</td>\n",
       "      <td>No</td>\n",
       "      <td>2</td>\n",
       "      <td>0</td>\n",
       "    </tr>\n",
       "    <tr>\n",
       "      <th>2</th>\n",
       "      <td>3</td>\n",
       "      <td>Michael Johnson</td>\n",
       "      <td>55</td>\n",
       "      <td>Male</td>\n",
       "      <td>180</td>\n",
       "      <td>85</td>\n",
       "      <td>130/85</td>\n",
       "      <td>220</td>\n",
       "      <td>95</td>\n",
       "      <td>Yes</td>\n",
       "      <td>4</td>\n",
       "      <td>1</td>\n",
       "    </tr>\n",
       "    <tr>\n",
       "      <th>3</th>\n",
       "      <td>4</td>\n",
       "      <td>Sarah Brown</td>\n",
       "      <td>40</td>\n",
       "      <td>Female</td>\n",
       "      <td>165</td>\n",
       "      <td>70</td>\n",
       "      <td>115/75</td>\n",
       "      <td>190</td>\n",
       "      <td>85</td>\n",
       "      <td>No</td>\n",
       "      <td>3</td>\n",
       "      <td>0</td>\n",
       "    </tr>\n",
       "    <tr>\n",
       "      <th>4</th>\n",
       "      <td>5</td>\n",
       "      <td>David Lee</td>\n",
       "      <td>50</td>\n",
       "      <td>Male</td>\n",
       "      <td>170</td>\n",
       "      <td>75</td>\n",
       "      <td>125/80</td>\n",
       "      <td>210</td>\n",
       "      <td>92</td>\n",
       "      <td>Yes</td>\n",
       "      <td>2</td>\n",
       "      <td>1</td>\n",
       "    </tr>\n",
       "  </tbody>\n",
       "</table>\n",
       "</div>"
      ],
      "text/plain": [
       "   ID             Name  Age  Gender  Height(cm)  Weight(kg)  \\\n",
       "0   1         John Doe   45    Male         175          80   \n",
       "1   2       Jane Smith   35  Female         160          65   \n",
       "2   3  Michael Johnson   55    Male         180          85   \n",
       "3   4      Sarah Brown   40  Female         165          70   \n",
       "4   5        David Lee   50    Male         170          75   \n",
       "\n",
       "  Blood Pressure(mmHg)  Cholesterol(mg/dL)  Glucose(mg/dL) Smoker  \\\n",
       "0               120/80                 200              90     No   \n",
       "1               110/70                 180              80     No   \n",
       "2               130/85                 220              95    Yes   \n",
       "3               115/75                 190              85     No   \n",
       "4               125/80                 210              92    Yes   \n",
       "\n",
       "   Exercise(hours/week)  Heart Attack  \n",
       "0                     3             0  \n",
       "1                     2             0  \n",
       "2                     4             1  \n",
       "3                     3             0  \n",
       "4                     2             1  "
      ]
     },
     "execution_count": 64,
     "metadata": {},
     "output_type": "execute_result"
    }
   ],
   "source": [
    "data_set = pd.read_csv('Heart_health.csv')  # Charger le jeu de données en utilisant l'encodage latin1\n",
    "data_set.head()  # Afficher les premières lignes du jeu de données"
   ]
  },
  {
   "cell_type": "code",
   "execution_count": 65,
   "id": "6bae192a-a33c-4335-b1f8-c2cad94c2483",
   "metadata": {},
   "outputs": [
    {
     "data": {
      "text/plain": [
       "(724, 12)"
      ]
     },
     "execution_count": 65,
     "metadata": {},
     "output_type": "execute_result"
    }
   ],
   "source": [
    "data_set.shape\n"
   ]
  },
  {
   "cell_type": "code",
   "execution_count": 66,
   "id": "73146315-ebfb-42f7-a83f-b37f9ef855a9",
   "metadata": {},
   "outputs": [
    {
     "name": "stdout",
     "output_type": "stream",
     "text": [
      "<class 'pandas.core.frame.DataFrame'>\n",
      "RangeIndex: 724 entries, 0 to 723\n",
      "Data columns (total 12 columns):\n",
      " #   Column                Non-Null Count  Dtype \n",
      "---  ------                --------------  ----- \n",
      " 0   ID                    724 non-null    int64 \n",
      " 1   Name                  724 non-null    object\n",
      " 2   Age                   724 non-null    int64 \n",
      " 3   Gender                724 non-null    object\n",
      " 4   Height(cm)            724 non-null    int64 \n",
      " 5   Weight(kg)            724 non-null    int64 \n",
      " 6   Blood Pressure(mmHg)  724 non-null    object\n",
      " 7   Cholesterol(mg/dL)    724 non-null    int64 \n",
      " 8   Glucose(mg/dL)        724 non-null    int64 \n",
      " 9   Smoker                724 non-null    object\n",
      " 10  Exercise(hours/week)  724 non-null    int64 \n",
      " 11  Heart Attack          724 non-null    int64 \n",
      "dtypes: int64(8), object(4)\n",
      "memory usage: 68.0+ KB\n"
     ]
    }
   ],
   "source": [
    "data_set.info()\n"
   ]
  },
  {
   "cell_type": "code",
   "execution_count": 67,
   "id": "9bd32a56-ecf9-4ae4-ac56-bf47038e1ae6",
   "metadata": {},
   "outputs": [
    {
     "data": {
      "text/plain": [
       "ID                      0\n",
       "Name                    0\n",
       "Age                     0\n",
       "Gender                  0\n",
       "Height(cm)              0\n",
       "Weight(kg)              0\n",
       "Blood Pressure(mmHg)    0\n",
       "Cholesterol(mg/dL)      0\n",
       "Glucose(mg/dL)          0\n",
       "Smoker                  0\n",
       "Exercise(hours/week)    0\n",
       "Heart Attack            0\n",
       "dtype: int64"
      ]
     },
     "execution_count": 67,
     "metadata": {},
     "output_type": "execute_result"
    }
   ],
   "source": [
    "data_set.isna().sum()"
   ]
  },
  {
   "cell_type": "code",
   "execution_count": 68,
   "id": "d6d18a83-9ab6-4538-beb5-c02e4c507cac",
   "metadata": {},
   "outputs": [
    {
     "data": {
      "text/plain": [
       "ID                      714\n",
       "Name                    121\n",
       "Age                      31\n",
       "Gender                    2\n",
       "Height(cm)               29\n",
       "Weight(kg)               29\n",
       "Blood Pressure(mmHg)     40\n",
       "Cholesterol(mg/dL)       13\n",
       "Glucose(mg/dL)           14\n",
       "Smoker                    2\n",
       "Exercise(hours/week)      4\n",
       "Heart Attack              2\n",
       "dtype: int64"
      ]
     },
     "execution_count": 68,
     "metadata": {},
     "output_type": "execute_result"
    }
   ],
   "source": [
    "data_set.nunique()"
   ]
  },
  {
   "cell_type": "markdown",
   "id": "2e6c7799-535e-4779-b02c-ea6a1c0bb305",
   "metadata": {},
   "source": [
    "### EDA : Exploratory Data Analysis"
   ]
  },
  {
   "cell_type": "code",
   "execution_count": 70,
   "id": "4a12a7d1-f60a-498e-8352-6e2082111599",
   "metadata": {},
   "outputs": [],
   "source": [
    "categoricals = list(data_set.select_dtypes(include='object'))\n",
    "numericals = list(data_set.select_dtypes(include=['int64', 'float64']))"
   ]
  },
  {
   "cell_type": "code",
   "execution_count": 72,
   "id": "e011e1e8-97cc-4e56-9099-7218484d36c6",
   "metadata": {},
   "outputs": [
    {
     "data": {
      "image/png": "[encoded data removed]",
      "text/plain": [
       "<Figure size 2000x600 with 1 Axes>"
      ]
     },
     "metadata": {},
     "output_type": "display_data"
    }
   ],
   "source": [
    "# Create the countplot\n",
    "fig, axis = plt.subplots(1, 1, figsize=(20, 6))\n",
    "sns.countplot(data=data_set, x='Heart Attack', ax=axis, palette='Set2')\n",
    "\n",
    "# Add percentages for each bar\n",
    "total = len(data_set['Heart Attack'])\n",
    "for p in axis.patches:\n",
    "    percentage = '{:.1f}%'.format(100 * p.get_height() / total)\n",
    "    x = p.get_x() + p.get_width() / 2\n",
    "    y = p.get_height() + 0.5\n",
    "    axis.annotate(percentage, (x, y), ha='center')\n",
    "\n",
    "plt.show()"
   ]
  },
  {
   "cell_type": "code",
   "execution_count": 74,
   "id": "addb87e6-cf5d-4fa8-b2df-07c50c8043ff",
   "metadata": {},
   "outputs": [
    {
     "name": "stderr",
     "output_type": "stream",
     "text": [
      "C:\\Users\\PC\\AppData\\Local\\Programs\\Python\\Python312\\Lib\\site-packages\\seaborn\\_oldcore.py:1119: FutureWarning: use_inf_as_na option is deprecated and will be removed in a future version. Convert inf values to NaN before operating instead.\n",
      "  with pd.option_context('mode.use_inf_as_na', True):\n",
      "C:\\Users\\PC\\AppData\\Local\\Programs\\Python\\Python312\\Lib\\site-packages\\seaborn\\_oldcore.py:1119: FutureWarning: use_inf_as_na option is deprecated and will be removed in a future version. Convert inf values to NaN before operating instead.\n",
      "  with pd.option_context('mode.use_inf_as_na', True):\n",
      "C:\\Users\\PC\\AppData\\Local\\Programs\\Python\\Python312\\Lib\\site-packages\\seaborn\\_oldcore.py:1119: FutureWarning: use_inf_as_na option is deprecated and will be removed in a future version. Convert inf values to NaN before operating instead.\n",
      "  with pd.option_context('mode.use_inf_as_na', True):\n",
      "C:\\Users\\PC\\AppData\\Local\\Programs\\Python\\Python312\\Lib\\site-packages\\seaborn\\_oldcore.py:1119: FutureWarning: use_inf_as_na option is deprecated and will be removed in a future version. Convert inf values to NaN before operating instead.\n",
      "  with pd.option_context('mode.use_inf_as_na', True):\n",
      "C:\\Users\\PC\\AppData\\Local\\Programs\\Python\\Python312\\Lib\\site-packages\\seaborn\\_oldcore.py:1119: FutureWarning: use_inf_as_na option is deprecated and will be removed in a future version. Convert inf values to NaN before operating instead.\n",
      "  with pd.option_context('mode.use_inf_as_na', True):\n",
      "C:\\Users\\PC\\AppData\\Local\\Programs\\Python\\Python312\\Lib\\site-packages\\seaborn\\_oldcore.py:1119: FutureWarning: use_inf_as_na option is deprecated and will be removed in a future version. Convert inf values to NaN before operating instead.\n",
      "  with pd.option_context('mode.use_inf_as_na', True):\n",
      "C:\\Users\\PC\\AppData\\Local\\Programs\\Python\\Python312\\Lib\\site-packages\\seaborn\\_oldcore.py:1119: FutureWarning: use_inf_as_na option is deprecated and will be removed in a future version. Convert inf values to NaN before operating instead.\n",
      "  with pd.option_context('mode.use_inf_as_na', True):\n",
      "C:\\Users\\PC\\AppData\\Local\\Programs\\Python\\Python312\\Lib\\site-packages\\seaborn\\_oldcore.py:1119: FutureWarning: use_inf_as_na option is deprecated and will be removed in a future version. Convert inf values to NaN before operating instead.\n",
      "  with pd.option_context('mode.use_inf_as_na', True):\n"
     ]
    },
    {
     "data": {
      "image/png": "[encoded data removed]",
      "text/plain": [
       "<Figure size 1500x1500 with 9 Axes>"
      ]
     },
     "metadata": {},
     "output_type": "display_data"
    }
   ],
   "source": [
    "norow = len(numericals) // 3 + 1\n",
    "fig, ax = plt.subplots(norow, 3, figsize=(15, 15))\n",
    "plt.suptitle('Histograms of Numerical Columns\\n', horizontalalignment=\"center\", fontstyle=\"normal\", fontsize=24, fontfamily=\"sans-serif\")\n",
    "\n",
    "for i, d in enumerate(numericals):\n",
    "    if i < 3:\n",
    "        chart = sns.histplot(x=data_set.loc[:, d], data=data_set, ax=ax[0, i], hue='Heart Attack')\n",
    "    else:\n",
    "        chart = sns.histplot(x=data_set.loc[:, d], data=data_set, ax=ax[i // 3, i % 3], hue='Heart Attack')\n",
    "\n",
    "plt.tight_layout()\n",
    "plt.show()"
   ]
  },
  {
   "cell_type": "code",
   "execution_count": 42,
   "id": "9ec6c575-bc2d-4c8f-aae2-654a3e76bd66",
   "metadata": {},
   "outputs": [
    {
     "data": {
      "text/plain": [
       "Index(['Age', 'Gender', 'Height(cm)', 'Weight(kg)', 'Blood Pressure(mmHg)',\n",
       "       'Cholesterol(mg/dL)', 'Glucose(mg/dL)', 'Smoker',\n",
       "       'Exercise(hours/week)', 'Heart Attack'],\n",
       "      dtype='object')"
      ]
     },
     "execution_count": 42,
     "metadata": {},
     "output_type": "execute_result"
    }
   ],
   "source": [
    "columns_to_remove = ['ID','Name']\n",
    "\n",
    "data_set.drop(columns=columns_to_remove, inplace=True)  \n",
    "data_set.columns  "
   ]
  },
  {
   "cell_type": "code",
   "execution_count": 44,
   "id": "f3a3c4df-75f1-4369-8c4a-1eb397deb9f0",
   "metadata": {},
   "outputs": [
    {
     "data": {
      "text/html": [
       "<div>\n",
       "<style scoped>\n",
       "    .dataframe tbody tr th:only-of-type {\n",
       "        vertical-align: middle;\n",
       "    }\n",
       "\n",
       "    .dataframe tbody tr th {\n",
       "        vertical-align: top;\n",
       "    }\n",
       "\n",
       "    .dataframe thead th {\n",
       "        text-align: right;\n",
       "    }\n",
       "</style>\n",
       "<table border=\"1\" class=\"dataframe\">\n",
       "  <thead>\n",
       "    <tr style=\"text-align: right;\">\n",
       "      <th></th>\n",
       "      <th>Age</th>\n",
       "      <th>Gender</th>\n",
       "      <th>Height(cm)</th>\n",
       "      <th>Weight(kg)</th>\n",
       "      <th>Blood Pressure(mmHg)</th>\n",
       "      <th>Cholesterol(mg/dL)</th>\n",
       "      <th>Glucose(mg/dL)</th>\n",
       "      <th>Smoker</th>\n",
       "      <th>Exercise(hours/week)</th>\n",
       "      <th>Heart Attack</th>\n",
       "      <th>Gender_encoded</th>\n",
       "      <th>Smoker_encoded</th>\n",
       "      <th>Gender_Female</th>\n",
       "      <th>Gender_Male</th>\n",
       "      <th>Smoker_No</th>\n",
       "      <th>Smoker_Yes</th>\n",
       "    </tr>\n",
       "  </thead>\n",
       "  <tbody>\n",
       "    <tr>\n",
       "      <th>0</th>\n",
       "      <td>45</td>\n",
       "      <td>Male</td>\n",
       "      <td>175</td>\n",
       "      <td>80</td>\n",
       "      <td>120/80</td>\n",
       "      <td>200</td>\n",
       "      <td>90</td>\n",
       "      <td>No</td>\n",
       "      <td>3</td>\n",
       "      <td>0</td>\n",
       "      <td>1</td>\n",
       "      <td>0</td>\n",
       "      <td>False</td>\n",
       "      <td>True</td>\n",
       "      <td>True</td>\n",
       "      <td>False</td>\n",
       "    </tr>\n",
       "    <tr>\n",
       "      <th>1</th>\n",
       "      <td>35</td>\n",
       "      <td>Female</td>\n",
       "      <td>160</td>\n",
       "      <td>65</td>\n",
       "      <td>110/70</td>\n",
       "      <td>180</td>\n",
       "      <td>80</td>\n",
       "      <td>No</td>\n",
       "      <td>2</td>\n",
       "      <td>0</td>\n",
       "      <td>0</td>\n",
       "      <td>0</td>\n",
       "      <td>True</td>\n",
       "      <td>False</td>\n",
       "      <td>True</td>\n",
       "      <td>False</td>\n",
       "    </tr>\n",
       "    <tr>\n",
       "      <th>2</th>\n",
       "      <td>55</td>\n",
       "      <td>Male</td>\n",
       "      <td>180</td>\n",
       "      <td>85</td>\n",
       "      <td>130/85</td>\n",
       "      <td>220</td>\n",
       "      <td>95</td>\n",
       "      <td>Yes</td>\n",
       "      <td>4</td>\n",
       "      <td>1</td>\n",
       "      <td>1</td>\n",
       "      <td>1</td>\n",
       "      <td>False</td>\n",
       "      <td>True</td>\n",
       "      <td>False</td>\n",
       "      <td>True</td>\n",
       "    </tr>\n",
       "    <tr>\n",
       "      <th>3</th>\n",
       "      <td>40</td>\n",
       "      <td>Female</td>\n",
       "      <td>165</td>\n",
       "      <td>70</td>\n",
       "      <td>115/75</td>\n",
       "      <td>190</td>\n",
       "      <td>85</td>\n",
       "      <td>No</td>\n",
       "      <td>3</td>\n",
       "      <td>0</td>\n",
       "      <td>0</td>\n",
       "      <td>0</td>\n",
       "      <td>True</td>\n",
       "      <td>False</td>\n",
       "      <td>True</td>\n",
       "      <td>False</td>\n",
       "    </tr>\n",
       "    <tr>\n",
       "      <th>4</th>\n",
       "      <td>50</td>\n",
       "      <td>Male</td>\n",
       "      <td>170</td>\n",
       "      <td>75</td>\n",
       "      <td>125/80</td>\n",
       "      <td>210</td>\n",
       "      <td>92</td>\n",
       "      <td>Yes</td>\n",
       "      <td>2</td>\n",
       "      <td>1</td>\n",
       "      <td>1</td>\n",
       "      <td>1</td>\n",
       "      <td>False</td>\n",
       "      <td>True</td>\n",
       "      <td>False</td>\n",
       "      <td>True</td>\n",
       "    </tr>\n",
       "  </tbody>\n",
       "</table>\n",
       "</div>"
      ],
      "text/plain": [
       "   Age  Gender  Height(cm)  Weight(kg) Blood Pressure(mmHg)  \\\n",
       "0   45    Male         175          80               120/80   \n",
       "1   35  Female         160          65               110/70   \n",
       "2   55    Male         180          85               130/85   \n",
       "3   40  Female         165          70               115/75   \n",
       "4   50    Male         170          75               125/80   \n",
       "\n",
       "   Cholesterol(mg/dL)  Glucose(mg/dL) Smoker  Exercise(hours/week)  \\\n",
       "0                 200              90     No                     3   \n",
       "1                 180              80     No                     2   \n",
       "2                 220              95    Yes                     4   \n",
       "3                 190              85     No                     3   \n",
       "4                 210              92    Yes                     2   \n",
       "\n",
       "   Heart Attack  Gender_encoded  Smoker_encoded  Gender_Female  Gender_Male  \\\n",
       "0             0               1               0          False         True   \n",
       "1             0               0               0           True        False   \n",
       "2             1               1               1          False         True   \n",
       "3             0               0               0           True        False   \n",
       "4             1               1               1          False         True   \n",
       "\n",
       "   Smoker_No  Smoker_Yes  \n",
       "0       True       False  \n",
       "1       True       False  \n",
       "2      False        True  \n",
       "3       True       False  \n",
       "4      False        True  "
      ]
     },
     "execution_count": 44,
     "metadata": {},
     "output_type": "execute_result"
    }
   ],
   "source": [
    "label_encoder = LabelEncoder()\n",
    "data_set['Gender_encoded'] = label_encoder.fit_transform(data_set['Gender'])\n",
    "data_set['Smoker_encoded'] = label_encoder.fit_transform(data_set['Smoker'])\n",
    "\n",
    "\n",
    "gender_dummies = pd.get_dummies(data_set['Gender'], prefix='Gender')\n",
    "smoker_dummies = pd.get_dummies(data_set['Smoker'], prefix='Smoker')\n",
    "\n",
    "\n",
    "data_set = pd.concat([data_set, gender_dummies, smoker_dummies], axis=1)\n",
    "\n",
    "\n",
    "data_set.head()"
   ]
  },
  {
   "cell_type": "code",
   "execution_count": 45,
   "id": "be1fb4d9-0943-4bc5-ac77-1097f5e68d42",
   "metadata": {},
   "outputs": [
    {
     "data": {
      "text/plain": [
       "Index(['Age', 'Height(cm)', 'Weight(kg)', 'Blood Pressure(mmHg)',\n",
       "       'Cholesterol(mg/dL)', 'Glucose(mg/dL)', 'Exercise(hours/week)',\n",
       "       'Heart Attack', 'Gender_encoded', 'Smoker_encoded', 'Gender_Female',\n",
       "       'Gender_Male', 'Smoker_No', 'Smoker_Yes'],\n",
       "      dtype='object')"
      ]
     },
     "execution_count": 45,
     "metadata": {},
     "output_type": "execute_result"
    }
   ],
   "source": [
    "columns_to_remove = ['Gender','Smoker']\n",
    "\n",
    "data_set.drop(columns=columns_to_remove, inplace=True)  \n",
    "data_set.columns  "
   ]
  },
  {
   "cell_type": "code",
   "execution_count": 46,
   "id": "3b59c724-44e6-4a30-87a5-88f13b03d109",
   "metadata": {},
   "outputs": [
    {
     "data": {
      "text/html": [
       "<div>\n",
       "<style scoped>\n",
       "    .dataframe tbody tr th:only-of-type {\n",
       "        vertical-align: middle;\n",
       "    }\n",
       "\n",
       "    .dataframe tbody tr th {\n",
       "        vertical-align: top;\n",
       "    }\n",
       "\n",
       "    .dataframe thead th {\n",
       "        text-align: right;\n",
       "    }\n",
       "</style>\n",
       "<table border=\"1\" class=\"dataframe\">\n",
       "  <thead>\n",
       "    <tr style=\"text-align: right;\">\n",
       "      <th></th>\n",
       "      <th>Age</th>\n",
       "      <th>Height(cm)</th>\n",
       "      <th>Weight(kg)</th>\n",
       "      <th>Blood Pressure(mmHg)</th>\n",
       "      <th>Cholesterol(mg/dL)</th>\n",
       "      <th>Glucose(mg/dL)</th>\n",
       "      <th>Exercise(hours/week)</th>\n",
       "      <th>Heart Attack</th>\n",
       "      <th>Gender_encoded</th>\n",
       "      <th>Smoker_encoded</th>\n",
       "      <th>Gender_Female</th>\n",
       "      <th>Gender_Male</th>\n",
       "      <th>Smoker_No</th>\n",
       "      <th>Smoker_Yes</th>\n",
       "    </tr>\n",
       "  </thead>\n",
       "  <tbody>\n",
       "    <tr>\n",
       "      <th>0</th>\n",
       "      <td>45</td>\n",
       "      <td>175</td>\n",
       "      <td>80</td>\n",
       "      <td>120/80</td>\n",
       "      <td>200</td>\n",
       "      <td>90</td>\n",
       "      <td>3</td>\n",
       "      <td>0</td>\n",
       "      <td>1</td>\n",
       "      <td>0</td>\n",
       "      <td>False</td>\n",
       "      <td>True</td>\n",
       "      <td>True</td>\n",
       "      <td>False</td>\n",
       "    </tr>\n",
       "    <tr>\n",
       "      <th>1</th>\n",
       "      <td>35</td>\n",
       "      <td>160</td>\n",
       "      <td>65</td>\n",
       "      <td>110/70</td>\n",
       "      <td>180</td>\n",
       "      <td>80</td>\n",
       "      <td>2</td>\n",
       "      <td>0</td>\n",
       "      <td>0</td>\n",
       "      <td>0</td>\n",
       "      <td>True</td>\n",
       "      <td>False</td>\n",
       "      <td>True</td>\n",
       "      <td>False</td>\n",
       "    </tr>\n",
       "    <tr>\n",
       "      <th>2</th>\n",
       "      <td>55</td>\n",
       "      <td>180</td>\n",
       "      <td>85</td>\n",
       "      <td>130/85</td>\n",
       "      <td>220</td>\n",
       "      <td>95</td>\n",
       "      <td>4</td>\n",
       "      <td>1</td>\n",
       "      <td>1</td>\n",
       "      <td>1</td>\n",
       "      <td>False</td>\n",
       "      <td>True</td>\n",
       "      <td>False</td>\n",
       "      <td>True</td>\n",
       "    </tr>\n",
       "    <tr>\n",
       "      <th>3</th>\n",
       "      <td>40</td>\n",
       "      <td>165</td>\n",
       "      <td>70</td>\n",
       "      <td>115/75</td>\n",
       "      <td>190</td>\n",
       "      <td>85</td>\n",
       "      <td>3</td>\n",
       "      <td>0</td>\n",
       "      <td>0</td>\n",
       "      <td>0</td>\n",
       "      <td>True</td>\n",
       "      <td>False</td>\n",
       "      <td>True</td>\n",
       "      <td>False</td>\n",
       "    </tr>\n",
       "    <tr>\n",
       "      <th>4</th>\n",
       "      <td>50</td>\n",
       "      <td>170</td>\n",
       "      <td>75</td>\n",
       "      <td>125/80</td>\n",
       "      <td>210</td>\n",
       "      <td>92</td>\n",
       "      <td>2</td>\n",
       "      <td>1</td>\n",
       "      <td>1</td>\n",
       "      <td>1</td>\n",
       "      <td>False</td>\n",
       "      <td>True</td>\n",
       "      <td>False</td>\n",
       "      <td>True</td>\n",
       "    </tr>\n",
       "  </tbody>\n",
       "</table>\n",
       "</div>"
      ],
      "text/plain": [
       "   Age  Height(cm)  Weight(kg) Blood Pressure(mmHg)  Cholesterol(mg/dL)  \\\n",
       "0   45         175          80               120/80                 200   \n",
       "1   35         160          65               110/70                 180   \n",
       "2   55         180          85               130/85                 220   \n",
       "3   40         165          70               115/75                 190   \n",
       "4   50         170          75               125/80                 210   \n",
       "\n",
       "   Glucose(mg/dL)  Exercise(hours/week)  Heart Attack  Gender_encoded  \\\n",
       "0              90                     3             0               1   \n",
       "1              80                     2             0               0   \n",
       "2              95                     4             1               1   \n",
       "3              85                     3             0               0   \n",
       "4              92                     2             1               1   \n",
       "\n",
       "   Smoker_encoded  Gender_Female  Gender_Male  Smoker_No  Smoker_Yes  \n",
       "0               0          False         True       True       False  \n",
       "1               0           True        False       True       False  \n",
       "2               1          False         True      False        True  \n",
       "3               0           True        False       True       False  \n",
       "4               1          False         True      False        True  "
      ]
     },
     "execution_count": 46,
     "metadata": {},
     "output_type": "execute_result"
    }
   ],
   "source": [
    "data_set.head()"
   ]
  },
  {
   "cell_type": "code",
   "execution_count": 47,
   "id": "7ec08b23-0875-40ba-8f71-b10eb0f4b1d6",
   "metadata": {},
   "outputs": [
    {
     "data": {
      "text/plain": [
       "Index(['Age', 'Height(cm)', 'Weight(kg)', 'Blood Pressure(mmHg)',\n",
       "       'Cholesterol(mg/dL)', 'Glucose(mg/dL)', 'Exercise(hours/week)',\n",
       "       'Heart Attack', 'Gender_encoded', 'Smoker_encoded'],\n",
       "      dtype='object')"
      ]
     },
     "execution_count": 47,
     "metadata": {},
     "output_type": "execute_result"
    }
   ],
   "source": [
    "columns_to_remove = ['Gender_Female',\n",
    "       'Gender_Male', 'Smoker_No', 'Smoker_Yes', 'Gender_Female',\n",
    "       'Gender_Male', 'Smoker_No', 'Smoker_Yes']\n",
    "\n",
    "data_set.drop(columns=columns_to_remove, inplace=True)  \n",
    "data_set.columns  "
   ]
  },
  {
   "cell_type": "code",
   "execution_count": 48,
   "id": "86ebe5c5-5b51-40ff-a7dd-b515c4998355",
   "metadata": {},
   "outputs": [
    {
     "data": {
      "text/html": [
       "<div>\n",
       "<style scoped>\n",
       "    .dataframe tbody tr th:only-of-type {\n",
       "        vertical-align: middle;\n",
       "    }\n",
       "\n",
       "    .dataframe tbody tr th {\n",
       "        vertical-align: top;\n",
       "    }\n",
       "\n",
       "    .dataframe thead th {\n",
       "        text-align: right;\n",
       "    }\n",
       "</style>\n",
       "<table border=\"1\" class=\"dataframe\">\n",
       "  <thead>\n",
       "    <tr style=\"text-align: right;\">\n",
       "      <th></th>\n",
       "      <th>Age</th>\n",
       "      <th>Height(cm)</th>\n",
       "      <th>Weight(kg)</th>\n",
       "      <th>Blood Pressure(mmHg)</th>\n",
       "      <th>Cholesterol(mg/dL)</th>\n",
       "      <th>Glucose(mg/dL)</th>\n",
       "      <th>Exercise(hours/week)</th>\n",
       "      <th>Heart Attack</th>\n",
       "      <th>Gender_encoded</th>\n",
       "      <th>Smoker_encoded</th>\n",
       "    </tr>\n",
       "  </thead>\n",
       "  <tbody>\n",
       "    <tr>\n",
       "      <th>0</th>\n",
       "      <td>45</td>\n",
       "      <td>175</td>\n",
       "      <td>80</td>\n",
       "      <td>120/80</td>\n",
       "      <td>200</td>\n",
       "      <td>90</td>\n",
       "      <td>3</td>\n",
       "      <td>0</td>\n",
       "      <td>1</td>\n",
       "      <td>0</td>\n",
       "    </tr>\n",
       "    <tr>\n",
       "      <th>1</th>\n",
       "      <td>35</td>\n",
       "      <td>160</td>\n",
       "      <td>65</td>\n",
       "      <td>110/70</td>\n",
       "      <td>180</td>\n",
       "      <td>80</td>\n",
       "      <td>2</td>\n",
       "      <td>0</td>\n",
       "      <td>0</td>\n",
       "      <td>0</td>\n",
       "    </tr>\n",
       "    <tr>\n",
       "      <th>2</th>\n",
       "      <td>55</td>\n",
       "      <td>180</td>\n",
       "      <td>85</td>\n",
       "      <td>130/85</td>\n",
       "      <td>220</td>\n",
       "      <td>95</td>\n",
       "      <td>4</td>\n",
       "      <td>1</td>\n",
       "      <td>1</td>\n",
       "      <td>1</td>\n",
       "    </tr>\n",
       "    <tr>\n",
       "      <th>3</th>\n",
       "      <td>40</td>\n",
       "      <td>165</td>\n",
       "      <td>70</td>\n",
       "      <td>115/75</td>\n",
       "      <td>190</td>\n",
       "      <td>85</td>\n",
       "      <td>3</td>\n",
       "      <td>0</td>\n",
       "      <td>0</td>\n",
       "      <td>0</td>\n",
       "    </tr>\n",
       "    <tr>\n",
       "      <th>4</th>\n",
       "      <td>50</td>\n",
       "      <td>170</td>\n",
       "      <td>75</td>\n",
       "      <td>125/80</td>\n",
       "      <td>210</td>\n",
       "      <td>92</td>\n",
       "      <td>2</td>\n",
       "      <td>1</td>\n",
       "      <td>1</td>\n",
       "      <td>1</td>\n",
       "    </tr>\n",
       "  </tbody>\n",
       "</table>\n",
       "</div>"
      ],
      "text/plain": [
       "   Age  Height(cm)  Weight(kg) Blood Pressure(mmHg)  Cholesterol(mg/dL)  \\\n",
       "0   45         175          80               120/80                 200   \n",
       "1   35         160          65               110/70                 180   \n",
       "2   55         180          85               130/85                 220   \n",
       "3   40         165          70               115/75                 190   \n",
       "4   50         170          75               125/80                 210   \n",
       "\n",
       "   Glucose(mg/dL)  Exercise(hours/week)  Heart Attack  Gender_encoded  \\\n",
       "0              90                     3             0               1   \n",
       "1              80                     2             0               0   \n",
       "2              95                     4             1               1   \n",
       "3              85                     3             0               0   \n",
       "4              92                     2             1               1   \n",
       "\n",
       "   Smoker_encoded  \n",
       "0               0  \n",
       "1               0  \n",
       "2               1  \n",
       "3               0  \n",
       "4               1  "
      ]
     },
     "execution_count": 48,
     "metadata": {},
     "output_type": "execute_result"
    }
   ],
   "source": [
    "data_set.head()"
   ]
  },
  {
   "cell_type": "code",
   "execution_count": 49,
   "id": "ca38b26c-4922-4f16-a6ce-96c6db57b3c9",
   "metadata": {},
   "outputs": [],
   "source": [
    "\n",
    "# Calculer le BMI (Body Mass Index) comme une combinaison de 'Height(cm)' et 'Weight(kg)'\n",
    "data_set['Height(m)'] = data_set['Height(cm)'] / 100  # Convertir la hauteur en mètres\n",
    "data_set['BMI'] = data_set['Weight(kg)'] / (data_set['Height(m)']**2)  # Calculer le BMI\n",
    "data_set = data_set.drop(['Height(cm)', 'Weight(kg)', 'Height(m)'], axis=1)  # Supprimer les colonnes originales\n",
    "\n",
    "# Séparer 'Blood Pressure(mmHg)' en deux colonnes 'Systolic' et 'Diastolic'\n",
    "data_set[['Systolic', 'Diastolic']] = data_set['Blood Pressure(mmHg)'].str.split('/', expand=True).astype(int)\n",
    "\n",
    "# Calculer la pression artérielle moyenne (MAP)\n",
    "data_set['MAP'] = (data_set['Systolic'] + 2 * data_set['Diastolic']) / 3\n",
    "\n",
    "# Supprimer les colonnes originales\n",
    "data_set = data_set.drop(['Blood Pressure(mmHg)', 'Systolic', 'Diastolic'], axis=1)"
   ]
  },
  {
   "cell_type": "code",
   "execution_count": 50,
   "id": "dc1982a2-0da7-4ea6-871a-c69dfacf0a7b",
   "metadata": {},
   "outputs": [
    {
     "data": {
      "text/html": [
       "<div>\n",
       "<style scoped>\n",
       "    .dataframe tbody tr th:only-of-type {\n",
       "        vertical-align: middle;\n",
       "    }\n",
       "\n",
       "    .dataframe tbody tr th {\n",
       "        vertical-align: top;\n",
       "    }\n",
       "\n",
       "    .dataframe thead th {\n",
       "        text-align: right;\n",
       "    }\n",
       "</style>\n",
       "<table border=\"1\" class=\"dataframe\">\n",
       "  <thead>\n",
       "    <tr style=\"text-align: right;\">\n",
       "      <th></th>\n",
       "      <th>Age</th>\n",
       "      <th>Cholesterol(mg/dL)</th>\n",
       "      <th>Glucose(mg/dL)</th>\n",
       "      <th>Exercise(hours/week)</th>\n",
       "      <th>Heart Attack</th>\n",
       "      <th>Gender_encoded</th>\n",
       "      <th>Smoker_encoded</th>\n",
       "      <th>BMI</th>\n",
       "      <th>MAP</th>\n",
       "    </tr>\n",
       "  </thead>\n",
       "  <tbody>\n",
       "    <tr>\n",
       "      <th>0</th>\n",
       "      <td>45</td>\n",
       "      <td>200</td>\n",
       "      <td>90</td>\n",
       "      <td>3</td>\n",
       "      <td>0</td>\n",
       "      <td>1</td>\n",
       "      <td>0</td>\n",
       "      <td>26.122449</td>\n",
       "      <td>93.333333</td>\n",
       "    </tr>\n",
       "    <tr>\n",
       "      <th>1</th>\n",
       "      <td>35</td>\n",
       "      <td>180</td>\n",
       "      <td>80</td>\n",
       "      <td>2</td>\n",
       "      <td>0</td>\n",
       "      <td>0</td>\n",
       "      <td>0</td>\n",
       "      <td>25.390625</td>\n",
       "      <td>83.333333</td>\n",
       "    </tr>\n",
       "    <tr>\n",
       "      <th>2</th>\n",
       "      <td>55</td>\n",
       "      <td>220</td>\n",
       "      <td>95</td>\n",
       "      <td>4</td>\n",
       "      <td>1</td>\n",
       "      <td>1</td>\n",
       "      <td>1</td>\n",
       "      <td>26.234568</td>\n",
       "      <td>100.000000</td>\n",
       "    </tr>\n",
       "    <tr>\n",
       "      <th>3</th>\n",
       "      <td>40</td>\n",
       "      <td>190</td>\n",
       "      <td>85</td>\n",
       "      <td>3</td>\n",
       "      <td>0</td>\n",
       "      <td>0</td>\n",
       "      <td>0</td>\n",
       "      <td>25.711662</td>\n",
       "      <td>88.333333</td>\n",
       "    </tr>\n",
       "    <tr>\n",
       "      <th>4</th>\n",
       "      <td>50</td>\n",
       "      <td>210</td>\n",
       "      <td>92</td>\n",
       "      <td>2</td>\n",
       "      <td>1</td>\n",
       "      <td>1</td>\n",
       "      <td>1</td>\n",
       "      <td>25.951557</td>\n",
       "      <td>95.000000</td>\n",
       "    </tr>\n",
       "  </tbody>\n",
       "</table>\n",
       "</div>"
      ],
      "text/plain": [
       "   Age  Cholesterol(mg/dL)  Glucose(mg/dL)  Exercise(hours/week)  \\\n",
       "0   45                 200              90                     3   \n",
       "1   35                 180              80                     2   \n",
       "2   55                 220              95                     4   \n",
       "3   40                 190              85                     3   \n",
       "4   50                 210              92                     2   \n",
       "\n",
       "   Heart Attack  Gender_encoded  Smoker_encoded        BMI         MAP  \n",
       "0             0               1               0  26.122449   93.333333  \n",
       "1             0               0               0  25.390625   83.333333  \n",
       "2             1               1               1  26.234568  100.000000  \n",
       "3             0               0               0  25.711662   88.333333  \n",
       "4             1               1               1  25.951557   95.000000  "
      ]
     },
     "execution_count": 50,
     "metadata": {},
     "output_type": "execute_result"
    }
   ],
   "source": [
    "data_set.head()"
   ]
  },
  {
   "cell_type": "code",
   "execution_count": 51,
   "id": "258448e4-9214-424b-a915-20f0e051761e",
   "metadata": {},
   "outputs": [
    {
     "name": "stdout",
     "output_type": "stream",
     "text": [
      "<class 'pandas.core.frame.DataFrame'>\n",
      "RangeIndex: 724 entries, 0 to 723\n",
      "Data columns (total 9 columns):\n",
      " #   Column                Non-Null Count  Dtype  \n",
      "---  ------                --------------  -----  \n",
      " 0   Age                   724 non-null    int64  \n",
      " 1   Cholesterol(mg/dL)    724 non-null    int64  \n",
      " 2   Glucose(mg/dL)        724 non-null    int64  \n",
      " 3   Exercise(hours/week)  724 non-null    int64  \n",
      " 4   Heart Attack          724 non-null    int64  \n",
      " 5   Gender_encoded        724 non-null    int32  \n",
      " 6   Smoker_encoded        724 non-null    int32  \n",
      " 7   BMI                   724 non-null    float64\n",
      " 8   MAP                   724 non-null    float64\n",
      "dtypes: float64(2), int32(2), int64(5)\n",
      "memory usage: 45.4 KB\n"
     ]
    }
   ],
   "source": [
    "data_set.info()\n"
   ]
  },
  {
   "cell_type": "markdown",
   "id": "7fe450d5-807c-47f1-99e1-c0d2057d62f3",
   "metadata": {},
   "source": [
    "<h1>Modele SVM :</h1>"
   ]
  },
  {
   "cell_type": "code",
   "execution_count": 52,
   "id": "65a2be6c-56cf-4840-9ac8-26a2e22a2755",
   "metadata": {},
   "outputs": [
    {
     "name": "stdout",
     "output_type": "stream",
     "text": [
      "Accuracy: 1.0\n",
      "              precision    recall  f1-score   support\n",
      "\n",
      "           0       1.00      1.00      1.00        59\n",
      "           1       1.00      1.00      1.00        86\n",
      "\n",
      "    accuracy                           1.00       145\n",
      "   macro avg       1.00      1.00      1.00       145\n",
      "weighted avg       1.00      1.00      1.00       145\n",
      "\n"
     ]
    }
   ],
   "source": [
    "from sklearn.model_selection import train_test_split\n",
    "from sklearn.svm import SVC\n",
    "from sklearn.metrics import accuracy_score, classification_report\n",
    "\n",
    "# Diviser les données en features (X) et la cible (y)\n",
    "X = data_set[['Age', 'Cholesterol(mg/dL)', 'Glucose(mg/dL)', 'Exercise(hours/week)', 'Gender_encoded', 'Smoker_encoded']]\n",
    "y = data_set['Heart Attack']\n",
    "\n",
    "# Diviser les données en ensembles d'entraînement et de test\n",
    "X_train, X_test, y_train, y_test = train_test_split(X, y, test_size=0.2, random_state=42)\n",
    "\n",
    "# Initialiser le modèle SVM\n",
    "svm_model = SVC(kernel='linear', C=1.0, random_state=42)\n",
    "\n",
    "# Entraîner le modèle\n",
    "svm_model.fit(X_train, y_train)\n",
    "\n",
    "# Prédictions sur l'ensemble de test\n",
    "y_pred = svm_model.predict(X_test)\n",
    "\n",
    "# Évaluer le modèle\n",
    "accuracy = accuracy_score(y_test, y_pred)\n",
    "print(\"Accuracy:\", accuracy)\n",
    "\n",
    "# Rapport de classification\n",
    "print(classification_report(y_test, y_pred))\n"
   ]
  },
  {
   "cell_type": "markdown",
   "id": "2e82f4f5-65c3-4790-af57-8ad512f0c358",
   "metadata": {},
   "source": [
    "<h1>Modele SVM :<h2>matrice de confusion</h2></h1>"
   ]
  },
  {
   "cell_type": "code",
   "execution_count": 55,
   "id": "83b6fac8-cdc3-4150-9d29-b09bd1ed5ffe",
   "metadata": {},
   "outputs": [
    {
     "name": "stdout",
     "output_type": "stream",
     "text": [
      "Confusion Matrix:\n",
      "[[59  0]\n",
      " [ 0 86]]\n"
     ]
    }
   ],
   "source": [
    "from sklearn.metrics import confusion_matrix\n",
    "\n",
    "# Calculer la matrice de confusion\n",
    "conf_matrix = confusion_matrix(y_test, y_pred)\n",
    "\n",
    "# Afficher la matrice de confusion\n",
    "print(\"Confusion Matrix:\")\n",
    "print(conf_matrix)"
   ]
  },
  {
   "cell_type": "code",
   "execution_count": 56,
   "id": "082fe779-35db-4a53-9960-667a7607a2f7",
   "metadata": {},
   "outputs": [
    {
     "data": {
      "image/png": "[encoded data removed]",
      "text/plain": [
       "<Figure size 800x600 with 1 Axes>"
      ]
     },
     "metadata": {},
     "output_type": "display_data"
    }
   ],
   "source": [
    "import matplotlib.pyplot as plt\n",
    "import seaborn as sns\n",
    "\n",
    "# Calculer la matrice de confusion\n",
    "conf_matrix = confusion_matrix(y_test, y_pred)\n",
    "\n",
    "# Afficher la matrice de confusion sous forme de graphe\n",
    "plt.figure(figsize=(8, 6))\n",
    "sns.heatmap(conf_matrix, annot=True, cmap='Blues', fmt='g', cbar=False, \n",
    "            xticklabels=['No Heart Attack', 'Heart Attack'], \n",
    "            yticklabels=['No Heart Attack', 'Heart Attack'])\n",
    "plt.xlabel('Predicted Label')\n",
    "plt.ylabel('True Label')\n",
    "plt.title('Confusion Matrix')\n",
    "plt.show()"
   ]
  },
  {
   "cell_type": "markdown",
   "id": "2e6ebb57-ec1b-457c-856d-8184d6ce68c7",
   "metadata": {},
   "source": [
    "<h1>Modele KNN :</h1>"
   ]
  },
  {
   "cell_type": "code",
   "execution_count": 53,
   "id": "c5f0e66d-cefa-43da-b0c3-bfe303444307",
   "metadata": {},
   "outputs": [
    {
     "name": "stdout",
     "output_type": "stream",
     "text": [
      "Accuracy: 0.9862068965517241\n",
      "              precision    recall  f1-score   support\n",
      "\n",
      "           0       1.00      0.97      0.98        59\n",
      "           1       0.98      1.00      0.99        86\n",
      "\n",
      "    accuracy                           0.99       145\n",
      "   macro avg       0.99      0.98      0.99       145\n",
      "weighted avg       0.99      0.99      0.99       145\n",
      "\n"
     ]
    }
   ],
   "source": [
    "from sklearn.model_selection import train_test_split\n",
    "from sklearn.neighbors import KNeighborsClassifier\n",
    "from sklearn.metrics import accuracy_score, classification_report\n",
    "\n",
    "# Diviser les données en features (X) et la cible (y)\n",
    "X = data_set[['Age', 'Cholesterol(mg/dL)', 'Glucose(mg/dL)', 'Exercise(hours/week)', 'Gender_encoded', 'Smoker_encoded']]\n",
    "y = data_set['Heart Attack']\n",
    "\n",
    "# Diviser les données en ensembles d'entraînement et de test\n",
    "X_train, X_test, y_train, y_test = train_test_split(X, y, test_size=0.2, random_state=42)\n",
    "\n",
    "# Initialiser le modèle KNN\n",
    "knn_model = KNeighborsClassifier(n_neighbors=5)\n",
    "\n",
    "# Entraîner le modèle\n",
    "knn_model.fit(X_train, y_train)\n",
    "\n",
    "# Prédictions sur l'ensemble de test\n",
    "y_pred = knn_model.predict(X_test)\n",
    "\n",
    "# Évaluer le modèle\n",
    "accuracy = accuracy_score(y_test, y_pred)\n",
    "print(\"Accuracy:\", accuracy)\n",
    "\n",
    "# Rapport de classification\n",
    "print(classification_report(y_test, y_pred))\n"
   ]
  },
  {
   "cell_type": "markdown",
   "id": "075aeb78-f668-4849-88bb-62058302a0fd",
   "metadata": {},
   "source": [
    "<h1>Modele KNN : <h2>Matrice de confusion</h2> </h1>"
   ]
  },
  {
   "cell_type": "code",
   "execution_count": 57,
   "id": "67245420-94a5-4a67-990f-bf2ab668a2d4",
   "metadata": {},
   "outputs": [
    {
     "data": {
      "image/png": "[encoded data removed]",
      "text/plain": [
       "<Figure size 800x600 with 1 Axes>"
      ]
     },
     "metadata": {},
     "output_type": "display_data"
    }
   ],
   "source": [
    "from sklearn.metrics import confusion_matrix\n",
    "import matplotlib.pyplot as plt\n",
    "import seaborn as sns\n",
    "\n",
    "# Calculer la matrice de confusion\n",
    "conf_matrix = confusion_matrix(y_test, y_pred)\n",
    "\n",
    "# Afficher la matrice de confusion sous forme de graphe\n",
    "plt.figure(figsize=(8, 6))\n",
    "sns.heatmap(conf_matrix, annot=True, cmap='Blues', fmt='g', cbar=False, \n",
    "            xticklabels=['No Heart Attack', 'Heart Attack'], \n",
    "            yticklabels=['No Heart Attack', 'Heart Attack'])\n",
    "plt.xlabel('Predicted Label')\n",
    "plt.ylabel('True Label')\n",
    "plt.title('Confusion Matrix')\n",
    "plt.show()\n"
   ]
  },
  {
   "cell_type": "markdown",
   "id": "d61fc7a2-247c-40a0-996b-f63a1f54013f",
   "metadata": {},
   "source": [
    "<h1>Regression logistique :  </h1>"
   ]
  },
  {
   "cell_type": "code",
   "execution_count": 62,
   "id": "5c3e8728-f1c4-4314-9e98-ea5239fdbb1b",
   "metadata": {},
   "outputs": [
    {
     "name": "stdout",
     "output_type": "stream",
     "text": [
      "Accuracy: 1.0\n",
      "              precision    recall  f1-score   support\n",
      "\n",
      "           0       1.00      1.00      1.00        59\n",
      "           1       1.00      1.00      1.00        86\n",
      "\n",
      "    accuracy                           1.00       145\n",
      "   macro avg       1.00      1.00      1.00       145\n",
      "weighted avg       1.00      1.00      1.00       145\n",
      "\n"
     ]
    },
    {
     "name": "stderr",
     "output_type": "stream",
     "text": [
      "C:\\Users\\PC\\AppData\\Local\\Programs\\Python\\Python312\\Lib\\site-packages\\sklearn\\linear_model\\_logistic.py:469: ConvergenceWarning: lbfgs failed to converge (status=1):\n",
      "STOP: TOTAL NO. of ITERATIONS REACHED LIMIT.\n",
      "\n",
      "Increase the number of iterations (max_iter) or scale the data as shown in:\n",
      "    https://scikit-learn.org/stable/modules/preprocessing.html\n",
      "Please also refer to the documentation for alternative solver options:\n",
      "    https://scikit-learn.org/stable/modules/linear_model.html#logistic-regression\n",
      "  n_iter_i = _check_optimize_result(\n"
     ]
    }
   ],
   "source": [
    "from sklearn.model_selection import train_test_split\n",
    "from sklearn.linear_model import LogisticRegression\n",
    "from sklearn.metrics import accuracy_score, classification_report\n",
    "\n",
    "# Diviser les données en features (X) et la cible (y)\n",
    "X = data_set[['Age', 'Cholesterol(mg/dL)', 'Glucose(mg/dL)', 'Exercise(hours/week)', 'Gender_encoded', 'Smoker_encoded', 'BMI', 'MAP']]\n",
    "y = data_set['Heart Attack']\n",
    "\n",
    "# Diviser les données en ensembles d'entraînement et de test\n",
    "X_train, X_test, y_train, y_test = train_test_split(X, y, test_size=0.2, random_state=42)\n",
    "\n",
    "# Initialiser le modèle de régression logistique\n",
    "logistic_model = LogisticRegression()\n",
    "\n",
    "# Entraîner le modèle\n",
    "logistic_model.fit(X_train, y_train)\n",
    "\n",
    "# Prédictions sur l'ensemble de test\n",
    "y_pred = logistic_model.predict(X_test)\n",
    "\n",
    "# Évaluer le modèle\n",
    "accuracy = accuracy_score(y_test, y_pred)\n",
    "print(\"Accuracy:\", accuracy)\n",
    "\n",
    "# Rapport de classification\n",
    "print(classification_report(y_test, y_pred))\n"
   ]
  },
  {
   "cell_type": "markdown",
   "id": "4074072e-571a-4654-9fef-8e5f4abe6f04",
   "metadata": {},
   "source": [
    "<h1>Regression logistique : <h2>Matrice de confusion</h2> </h1>"
   ]
  },
  {
   "cell_type": "code",
   "execution_count": 63,
   "id": "cdd12550-4da2-4dc0-bad3-1167610eaf65",
   "metadata": {},
   "outputs": [
    {
     "data": {
      "image/png": "[encoded data removed]",
      "text/plain": [
       "<Figure size 800x600 with 1 Axes>"
      ]
     },
     "metadata": {},
     "output_type": "display_data"
    }
   ],
   "source": [
    "from sklearn.metrics import confusion_matrix\n",
    "import matplotlib.pyplot as plt\n",
    "import seaborn as sns\n",
    "\n",
    "# Calculer la matrice de confusion\n",
    "conf_matrix = confusion_matrix(y_test, y_pred)\n",
    "\n",
    "# Afficher la matrice de confusion sous forme de graphe\n",
    "plt.figure(figsize=(8, 6))\n",
    "sns.heatmap(conf_matrix, annot=True, cmap='Blues', fmt='g', cbar=False, \n",
    "            xticklabels=['No Heart Attack', 'Heart Attack'], \n",
    "            yticklabels=['No Heart Attack', 'Heart Attack'])\n",
    "plt.xlabel('Predicted Label')\n",
    "plt.ylabel('True Label')\n",
    "plt.title('Confusion Matrix')\n",
    "plt.show()\n"
   ]
  },
  {
   "cell_type": "code",
   "execution_count": null,
   "id": "c8bc4fbc-2ad7-4f51-a6f6-e616f1403ab9",
   "metadata": {},
   "outputs": [],
   "source": []
  }
 ],
 "metadata": {
  "kernelspec": {
   "display_name": "Python 3 (ipykernel)",
   "language": "python",
   "name": "python3"
  },
  "language_info": {
   "codemirror_mode": {
    "name": "ipython",
    "version": 3
   },
   "file_extension": ".py",
   "mimetype": "text/x-python",
   "name": "python",
   "nbconvert_exporter": "python",
   "pygments_lexer": "ipython3",
   "version": "3.12.1"
  }
 },
 "nbformat": 4,
 "nbformat_minor": 5
}
